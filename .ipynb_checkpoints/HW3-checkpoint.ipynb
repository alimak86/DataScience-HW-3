{
 "cells": [
  {
   "cell_type": "code",
   "execution_count": 1,
   "metadata": {},
   "outputs": [],
   "source": [
    "import numpy as np"
   ]
  },
  {
   "cell_type": "code",
   "execution_count": 2,
   "metadata": {},
   "outputs": [],
   "source": [
    "import pandas as pd"
   ]
  },
  {
   "cell_type": "code",
   "execution_count": 3,
   "metadata": {},
   "outputs": [],
   "source": [
    "import matplotlib as plt"
   ]
  },
  {
   "cell_type": "code",
   "execution_count": 4,
   "metadata": {},
   "outputs": [],
   "source": [
    "from sklearn.linear_model import LinearRegression"
   ]
  },
  {
   "cell_type": "code",
   "execution_count": 5,
   "metadata": {},
   "outputs": [],
   "source": [
    "## функция гипотезы\n",
    "def price_prediction(A,x): ## A coefficients calculated based on the dataset\n",
    "    return np.dot(A,x)     ## x - weights"
   ]
  },
  {
   "cell_type": "code",
   "execution_count": 6,
   "metadata": {},
   "outputs": [],
   "source": [
    "### mse = (1/2m)Sum(y_hypo_i - yi)**2\n",
    "def mean_squared_error(actual_y,assumed_y):\n",
    "    m = len(actual_y)\n",
    "    return np.sum((actual_y-assumed_y)**2)/(2*m)"
   ]
  },
  {
   "cell_type": "code",
   "execution_count": 7,
   "metadata": {},
   "outputs": [],
   "source": [
    "#### make a one step of the gradient descent\n",
    "## w = wprev - alpha (1/m) Sum(h(xi) - yi)xi, i{1,m})\n",
    "def gradient_step(X, y, w, learning_rate):\n",
    "    m = len(y)\n",
    "    alpha = learning_rate\n",
    "    grad = (X.T @ (price_prediction(X, w) - y)) / m\n",
    "    w -= alpha * grad\n",
    "    return w"
   ]
  },
  {
   "cell_type": "code",
   "execution_count": 8,
   "metadata": {},
   "outputs": [],
   "source": [
    "def gradient_descent(X0, y, learning_rate, num_iter, eps):\n",
    "    ones = np.ones((X0.shape[0], 1))\n",
    "    X = np.hstack((ones, X0))\n",
    "    w = np.zeros(X.shape[1])  # Initialize weights\n",
    "\n",
    "    assumed_y = price_prediction(X, w)  \n",
    "    loss = mean_squared_error(y, assumed_y)\n",
    "    loss_history = [loss]\n",
    "\n",
    "    for _ in range(num_iter):\n",
    "        w = gradient_step(X, y, w, learning_rate)\n",
    "        assumed_y = price_prediction(X, w)\n",
    "        loss = mean_squared_error(y, assumed_y)\n",
    "        if abs(loss - loss_history[-1]) < eps:\n",
    "            loss_history.append(loss)\n",
    "            break\n",
    "\n",
    "        loss_history.append(loss)\n",
    "\n",
    "    return w, loss_history"
   ]
  },
  {
   "cell_type": "code",
   "execution_count": 9,
   "metadata": {},
   "outputs": [
    {
     "name": "stdout",
     "output_type": "stream",
     "text": [
      "           Gradient Descent - w: [4766729.23694497  821968.67120246  300259.79711489  696447.09123892]\n",
      "Analytical Solution - Optimal w: [4766729.24770642  821968.58935343  300259.16468032  696447.75898579]\n",
      "    Pandas Solution -         w: [4766729.24770642  821968.58935343  300259.16468032  696447.75898579]\n"
     ]
    }
   ],
   "source": [
    "# read data and normilize it\n",
    "df = pd.read_csv(\"Housing.csv\")\n",
    "norm = df.copy()\n",
    "columns = ['price', 'area', 'bedrooms', 'bathrooms']\n",
    "for column in columns[1:]:\n",
    "    norm[column] = (df[column] - df[column].mean()) / df[column].std()\n",
    "\n",
    "\n",
    "# design matrix X and target values y\n",
    "X = norm[['area', 'bedrooms', 'bathrooms']].values\n",
    "y = norm['price'].values\n",
    "\n",
    "# for gradient descent\n",
    "learning_rate = 0.001\n",
    "num_iter = 100000\n",
    "eps = 1e-12\n",
    "\n",
    "# # gradient descent\n",
    "w_gradient, loss_history = gradient_descent(X, y, learning_rate, num_iter, eps)\n",
    "print('           Gradient Descent - w:', w_gradient)\n",
    "\n",
    "# analytical calculation\n",
    "ones = np.ones((X.shape[0], 1))\n",
    "X = np.hstack((ones, X))\n",
    "\n",
    "# w_analytical = np.linalg.pinv(X.T @ X) @ X.T @ y\n",
    "w_analytical = np.linalg.pinv(X) @ y\n",
    "print('Analytical Solution - Optimal w:', w_analytical)\n",
    "\n",
    "## using pandas solvers\n",
    "regressor = LinearRegression().fit(X,y)\n",
    "regressor.coef_[0] = y.mean()\n",
    "print('    Pandas Solution -         w:', regressor.coef_)\n"
   ]
  }
 ],
 "metadata": {
  "kernelspec": {
   "display_name": "Python 3 (ipykernel)",
   "language": "python",
   "name": "python3"
  },
  "language_info": {
   "codemirror_mode": {
    "name": "ipython",
    "version": 3
   },
   "file_extension": ".py",
   "mimetype": "text/x-python",
   "name": "python",
   "nbconvert_exporter": "python",
   "pygments_lexer": "ipython3",
   "version": "3.11.1"
  }
 },
 "nbformat": 4,
 "nbformat_minor": 4
}
